{
 "cells": [
  {
   "cell_type": "markdown",
   "metadata": {},
   "source": [
    "# CSV files:"
   ]
  },
  {
   "cell_type": "code",
   "execution_count": null,
   "metadata": {},
   "outputs": [],
   "source": [
    "# Reading Data from a CSV file:"
   ]
  },
  {
   "cell_type": "code",
   "execution_count": 1,
   "metadata": {},
   "outputs": [],
   "source": [
    "import csv"
   ]
  },
  {
   "cell_type": "code",
   "execution_count": 2,
   "metadata": {},
   "outputs": [
    {
     "name": "stdout",
     "output_type": "stream",
     "text": [
      "['Year', 'Event', 'Winner']\n",
      "['2011', 'CWC_2011', 'India']\n",
      "['2015', 'CWC_2015', 'Australia']\n",
      "['2019', 'CWC_2019', 'England']\n"
     ]
    }
   ],
   "source": [
    "with open(\"info.csv\") as file:\n",
    "    contents = csv.reader(file)\n",
    "    for i in contents:\n",
    "        print(i)"
   ]
  },
  {
   "cell_type": "code",
   "execution_count": 3,
   "metadata": {},
   "outputs": [],
   "source": [
    "# Writing Data into CSV file. If our file doesn't exist then this write mode will create file automatically itself"
   ]
  },
  {
   "cell_type": "code",
   "execution_count": 5,
   "metadata": {},
   "outputs": [],
   "source": [
    "with open(\"winner.csv\", \"w\", newline = \"\") as file:\n",
    "    file_writer = csv.writer(file)\n",
    "    file_writer.writerow([\"1992\",\"CWC_1992\",\"Pakistan\"])\n",
    "    file_writer.writerow([\"1996\",\"CWC_1996\",\"SriLanka\"])"
   ]
  },
  {
   "cell_type": "code",
   "execution_count": 6,
   "metadata": {},
   "outputs": [],
   "source": [
    "# appending a CSV file:"
   ]
  },
  {
   "cell_type": "code",
   "execution_count": 7,
   "metadata": {},
   "outputs": [],
   "source": [
    "with open(\"winner.csv\", \"a\", newline = \"\") as file:\n",
    "    file_writer = csv.writer(file)\n",
    "    file_writer.writerow([\"2003\",\"CWC_2003\",\"Australia\"])"
   ]
  },
  {
   "cell_type": "code",
   "execution_count": null,
   "metadata": {},
   "outputs": [],
   "source": [
    "with open(\"winner.csv\", \"r\") as file:\n",
    "    "
   ]
  }
 ],
 "metadata": {
  "kernelspec": {
   "display_name": "Python 3",
   "language": "python",
   "name": "python3"
  },
  "language_info": {
   "codemirror_mode": {
    "name": "ipython",
    "version": 3
   },
   "file_extension": ".py",
   "mimetype": "text/x-python",
   "name": "python",
   "nbconvert_exporter": "python",
   "pygments_lexer": "ipython3",
   "version": "3.7.3"
  }
 },
 "nbformat": 4,
 "nbformat_minor": 2
}
