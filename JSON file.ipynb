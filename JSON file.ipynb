{
 "cells": [
  {
   "cell_type": "markdown",
   "metadata": {},
   "source": [
    "# JSON file:"
   ]
  },
  {
   "cell_type": "markdown",
   "metadata": {},
   "source": [
    "# Writing data list to JSON file:"
   ]
  },
  {
   "cell_type": "code",
   "execution_count": 20,
   "metadata": {},
   "outputs": [],
   "source": [
    "import json\n",
    "with open(\"jsonNewFile.json\", \"w\") as file:\n",
    "    json.dump([1,2,3,4,5,6,7], file)"
   ]
  },
  {
   "cell_type": "code",
   "execution_count": 21,
   "metadata": {},
   "outputs": [],
   "source": [
    "# Reading JSON file:"
   ]
  },
  {
   "cell_type": "code",
   "execution_count": 22,
   "metadata": {},
   "outputs": [
    {
     "name": "stdout",
     "output_type": "stream",
     "text": [
      "[1, 2, 3, 4, 5, 6, 7]\n"
     ]
    }
   ],
   "source": [
    "with open(\"jsonNewFile.json\",\"r\") as file:\n",
    "    r = json.load(file)\n",
    "print(r)"
   ]
  },
  {
   "cell_type": "code",
   "execution_count": 23,
   "metadata": {},
   "outputs": [],
   "source": [
    "with open(\"jsonNewFile.json\", \"w\") as file:\n",
    "    json.dump([\"Mohib\",\"Ismail\"], file)"
   ]
  },
  {
   "cell_type": "code",
   "execution_count": 24,
   "metadata": {},
   "outputs": [
    {
     "name": "stdout",
     "output_type": "stream",
     "text": [
      "['Mohib', 'Ismail']\n"
     ]
    }
   ],
   "source": [
    "with open(\"jsonNewFile.json\",\"r\") as file:\n",
    "    a = json.load(file)\n",
    "print(a)"
   ]
  },
  {
   "cell_type": "code",
   "execution_count": 25,
   "metadata": {},
   "outputs": [],
   "source": [
    "# Append"
   ]
  },
  {
   "cell_type": "code",
   "execution_count": 26,
   "metadata": {},
   "outputs": [],
   "source": [
    "with open(\"jsonNewFile.json\", \"a\") as file:\n",
    "    json.dump([1,2,3,4,5,6,7], file)"
   ]
  },
  {
   "cell_type": "markdown",
   "metadata": {},
   "source": [
    "# Writing data Dictionary in JSON file:"
   ]
  },
  {
   "cell_type": "code",
   "execution_count": 18,
   "metadata": {},
   "outputs": [],
   "source": [
    "cust_1 = {\n",
    "    \"name\":\"Mohib\",\n",
    "    \"last_name\":\"Ismail\",\n",
    "    \"email\":\"abc@gmail.com\"\n",
    "}\n",
    "with open(\"jsondictionary.json\",\"w\") as f:\n",
    "    json.dump(cust_1,f)"
   ]
  },
  {
   "cell_type": "code",
   "execution_count": 28,
   "metadata": {},
   "outputs": [
    {
     "name": "stdout",
     "output_type": "stream",
     "text": [
      "{'name': 'Mohib', 'last_name': 'Ismail', 'email': 'abc@gmail.com'}\n"
     ]
    }
   ],
   "source": [
    "with open(\"jsondictionary.json\",\"r\") as f:\n",
    "    new = json.load(f)\n",
    "print(new)"
   ]
  },
  {
   "cell_type": "code",
   "execution_count": null,
   "metadata": {},
   "outputs": [],
   "source": [
    "# Append"
   ]
  },
  {
   "cell_type": "code",
   "execution_count": 29,
   "metadata": {},
   "outputs": [],
   "source": [
    "with open(\"jsondictionary.json\",\"a\") as f:\n",
    "    json.dump({\n",
    "        \"name\":\"Ali\",\n",
    "        \"last_name\":\"Malik\",\n",
    "        \"email\":\"def@gmail.com\"\n",
    "    },f)"
   ]
  },
  {
   "cell_type": "code",
   "execution_count": null,
   "metadata": {},
   "outputs": [],
   "source": []
  }
 ],
 "metadata": {
  "kernelspec": {
   "display_name": "Python 3",
   "language": "python",
   "name": "python3"
  },
  "language_info": {
   "codemirror_mode": {
    "name": "ipython",
    "version": 3
   },
   "file_extension": ".py",
   "mimetype": "text/x-python",
   "name": "python",
   "nbconvert_exporter": "python",
   "pygments_lexer": "ipython3",
   "version": "3.7.3"
  }
 },
 "nbformat": 4,
 "nbformat_minor": 2
}
