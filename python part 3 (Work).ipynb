{
 "cells": [
  {
   "cell_type": "markdown",
   "metadata": {},
   "source": [
    "# Function:"
   ]
  },
  {
   "cell_type": "code",
   "execution_count": 1,
   "metadata": {},
   "outputs": [
    {
     "name": "stdout",
     "output_type": "stream",
     "text": [
      "A line before function\n",
      "A line after function\n"
     ]
    }
   ],
   "source": [
    "print(\"A line before function\")\n",
    "def add():\n",
    "    print(50 + 70)\n",
    "print(\"A line after function\")"
   ]
  },
  {
   "cell_type": "code",
   "execution_count": 2,
   "metadata": {},
   "outputs": [
    {
     "name": "stdout",
     "output_type": "stream",
     "text": [
      "120\n"
     ]
    }
   ],
   "source": [
    "add()"
   ]
  },
  {
   "cell_type": "code",
   "execution_count": 3,
   "metadata": {},
   "outputs": [
    {
     "name": "stdout",
     "output_type": "stream",
     "text": [
      "I'm a parameter less function. \n"
     ]
    }
   ],
   "source": [
    "def add():\n",
    "    print(\"I'm a parameter less function. \")\n",
    "add()"
   ]
  },
  {
   "cell_type": "code",
   "execution_count": 4,
   "metadata": {},
   "outputs": [],
   "source": [
    "def add(a , b):        #parameterised function\n",
    "    print(a + b)"
   ]
  },
  {
   "cell_type": "markdown",
   "metadata": {},
   "source": [
    "# Positional Arguments:"
   ]
  },
  {
   "cell_type": "code",
   "execution_count": 5,
   "metadata": {},
   "outputs": [
    {
     "name": "stdout",
     "output_type": "stream",
     "text": [
      "110\n"
     ]
    }
   ],
   "source": [
    "add(34 , 76)"
   ]
  },
  {
   "cell_type": "code",
   "execution_count": 6,
   "metadata": {},
   "outputs": [
    {
     "name": "stdout",
     "output_type": "stream",
     "text": [
      "1012\n"
     ]
    }
   ],
   "source": [
    "add(445 , 567)"
   ]
  },
  {
   "cell_type": "code",
   "execution_count": 7,
   "metadata": {},
   "outputs": [],
   "source": [
    "# Sequence matters is positional arguments"
   ]
  },
  {
   "cell_type": "code",
   "execution_count": 8,
   "metadata": {},
   "outputs": [],
   "source": [
    "def full_name(first,middle,last):\n",
    "    print(first + \" \" + middle + \" \" + last)"
   ]
  },
  {
   "cell_type": "code",
   "execution_count": 9,
   "metadata": {},
   "outputs": [
    {
     "name": "stdout",
     "output_type": "stream",
     "text": [
      "Mohib Ismail Bhimla\n"
     ]
    }
   ],
   "source": [
    "full_name(\"Mohib\",\"Ismail\",\"Bhimla\")"
   ]
  },
  {
   "cell_type": "markdown",
   "metadata": {},
   "source": [
    "# Keyword Arguments:"
   ]
  },
  {
   "cell_type": "code",
   "execution_count": 10,
   "metadata": {},
   "outputs": [
    {
     "name": "stdout",
     "output_type": "stream",
     "text": [
      "Mohib Ismail Bhimla\n"
     ]
    }
   ],
   "source": [
    "full_name(first = \"Mohib\", last = \"Bhimla\", middle = \"Ismail\")"
   ]
  },
  {
   "cell_type": "code",
   "execution_count": 11,
   "metadata": {},
   "outputs": [
    {
     "name": "stdout",
     "output_type": "stream",
     "text": [
      "Mohib Ismail Bhimla\n"
     ]
    }
   ],
   "source": [
    "full_name(\"Mohib\", \"Ismail\", last = \"Bhimla\")"
   ]
  },
  {
   "cell_type": "markdown",
   "metadata": {},
   "source": [
    "# Default parameters:"
   ]
  },
  {
   "cell_type": "code",
   "execution_count": 12,
   "metadata": {},
   "outputs": [],
   "source": [
    "def full_name(first , last, middle = \"\"):\n",
    "    print(first + \" \" + middle + \"\" + last)"
   ]
  },
  {
   "cell_type": "code",
   "execution_count": 13,
   "metadata": {},
   "outputs": [
    {
     "name": "stdout",
     "output_type": "stream",
     "text": [
      "Mohib Ismail\n"
     ]
    }
   ],
   "source": [
    "full_name(\"Mohib\", \"Ismail\")"
   ]
  },
  {
   "cell_type": "markdown",
   "metadata": {},
   "source": [
    "# Unknow Number of Arguments:"
   ]
  },
  {
   "cell_type": "code",
   "execution_count": 14,
   "metadata": {},
   "outputs": [],
   "source": [
    "def pizza_order(name, flavour, size, *toppings):  # deals with arbitrary arguments\n",
    "    print(f\"Your flavour is {flavour}, with toppings {toppings} and size is {size}. \")\n",
    "    print()\n",
    "    print(f\"{name}, Your Pizza is rady. Thankyou! \")"
   ]
  },
  {
   "cell_type": "code",
   "execution_count": 15,
   "metadata": {},
   "outputs": [
    {
     "name": "stdout",
     "output_type": "stream",
     "text": [
      "Your flavour is Chicken Tikka, with toppings ('Pepperoni', 'Mushrooms', 'Onions', 'Sausage', 'Bacon') and size is Large. \n",
      "\n",
      "Mohib, Your Pizza is rady. Thankyou! \n"
     ]
    }
   ],
   "source": [
    "pizza_order(\"Mohib\", \"Chicken Tikka\", \"Large\", \"Pepperoni\", \"Mushrooms\",\"Onions\",\"Sausage\",\"Bacon\")"
   ]
  },
  {
   "cell_type": "markdown",
   "metadata": {},
   "source": [
    "# Functions: Passing information back from them:"
   ]
  },
  {
   "cell_type": "code",
   "execution_count": 16,
   "metadata": {},
   "outputs": [],
   "source": [
    "def add(val1 , val2):\n",
    "    ans = (val1 + val2)\n",
    "    return ans,\"Hel\""
   ]
  },
  {
   "cell_type": "code",
   "execution_count": 17,
   "metadata": {},
   "outputs": [
    {
     "data": {
      "text/plain": [
       "(123, 'Hel')"
      ]
     },
     "execution_count": 17,
     "metadata": {},
     "output_type": "execute_result"
    }
   ],
   "source": [
    "add(56,67)"
   ]
  },
  {
   "cell_type": "markdown",
   "metadata": {},
   "source": [
    "# Using function as Variable:"
   ]
  },
  {
   "cell_type": "code",
   "execution_count": 18,
   "metadata": {},
   "outputs": [
    {
     "name": "stdout",
     "output_type": "stream",
     "text": [
      "14\n"
     ]
    }
   ],
   "source": [
    "def add(a,b):\n",
    "    return a + b\n",
    "def sub(a,b):\n",
    "    return a - b\n",
    "result = (4 + 7) + (7 - 4)\n",
    "print(result)"
   ]
  },
  {
   "cell_type": "code",
   "execution_count": 19,
   "metadata": {},
   "outputs": [
    {
     "name": "stdout",
     "output_type": "stream",
     "text": [
      "Mohib Ismail\n"
     ]
    }
   ],
   "source": [
    "def full_name(first,last):\n",
    "    return first + last\n",
    "name = (\"Mohib Ismail\")\n",
    "print(name)"
   ]
  },
  {
   "cell_type": "markdown",
   "metadata": {},
   "source": [
    "# Local vs Global Variable:"
   ]
  },
  {
   "cell_type": "code",
   "execution_count": 20,
   "metadata": {},
   "outputs": [
    {
     "name": "stdout",
     "output_type": "stream",
     "text": [
      "Mr. Ali is very Happy today! \n"
     ]
    }
   ],
   "source": [
    "def happy():\n",
    "    name = \"Mr. Ali\"   #Local Variable\n",
    "    print(f\"{name} is very Happy today! \")\n",
    "happy()"
   ]
  },
  {
   "cell_type": "code",
   "execution_count": 21,
   "metadata": {},
   "outputs": [
    {
     "name": "stdout",
     "output_type": "stream",
     "text": [
      "Mr. Bilal\n",
      "Mr. Bilal is very Sad today!\n"
     ]
    }
   ],
   "source": [
    "name2 = \"Mr. Bilal\"   # global Variable\n",
    "def sad():\n",
    "    print(f\"{name2} is very Sad today!\")\n",
    "print(name2)\n",
    "sad()"
   ]
  },
  {
   "cell_type": "markdown",
   "metadata": {},
   "source": [
    "# Function with in a function:"
   ]
  },
  {
   "cell_type": "code",
   "execution_count": 22,
   "metadata": {},
   "outputs": [],
   "source": [
    "def commissionclac(sales):\n",
    "    if sales >100:\n",
    "        return sales * 100\n",
    "    elif sales >70:\n",
    "        return sales * 70\n",
    "    elif sales >50:\n",
    "        return sales * 50\n",
    "    elif sales >20:\n",
    "        return sales * 20\n",
    "    else:\n",
    "        return 0\n",
    "def salarycalc(basic,sales):\n",
    "    gross_salary = basic + commissionclac(sales)\n",
    "    print(f\"Your gross salary is: {gross_salary} \")"
   ]
  },
  {
   "cell_type": "code",
   "execution_count": 23,
   "metadata": {},
   "outputs": [
    {
     "name": "stdout",
     "output_type": "stream",
     "text": [
      "Your gross salary is: 63250 \n"
     ]
    }
   ],
   "source": [
    "salarycalc(60000,65)"
   ]
  },
  {
   "cell_type": "markdown",
   "metadata": {},
   "source": [
    "# While Loops:"
   ]
  },
  {
   "cell_type": "code",
   "execution_count": 24,
   "metadata": {},
   "outputs": [
    {
     "name": "stdout",
     "output_type": "stream",
     "text": [
      "0 This is While loop printing. \n",
      "1 This is While loop printing. \n",
      "2 This is While loop printing. \n",
      "3 This is While loop printing. \n",
      "4 This is While loop printing. \n",
      "5 This is While loop printing. \n",
      "6 This is While loop printing. \n",
      "7 This is While loop printing. \n",
      "8 This is While loop printing. \n",
      "9 This is While loop printing. \n",
      "10 This is While loop printing. \n"
     ]
    }
   ],
   "source": [
    "a = 0\n",
    "while a <= 10:\n",
    "    print(a,\"This is While loop printing. \")\n",
    "    a += 1"
   ]
  },
  {
   "cell_type": "code",
   "execution_count": 2,
   "metadata": {},
   "outputs": [
    {
     "name": "stdout",
     "output_type": "stream",
     "text": [
      "0 This is While loop printing. \n",
      "3 This is While loop printing. \n",
      "6 This is While loop printing. \n",
      "9 This is While loop printing. \n"
     ]
    }
   ],
   "source": [
    "a = 0\n",
    "while a <= 10:\n",
    "    print(a,\"This is While loop printing. \")\n",
    "    a += 3"
   ]
  },
  {
   "cell_type": "code",
   "execution_count": 5,
   "metadata": {},
   "outputs": [
    {
     "name": "stdout",
     "output_type": "stream",
     "text": [
      "0 This is for loop printing. \n",
      "2 This is for loop printing. \n",
      "4 This is for loop printing. \n",
      "6 This is for loop printing. \n",
      "8 This is for loop printing. \n"
     ]
    }
   ],
   "source": [
    "for a in range(0,10,2):\n",
    "    print(a,\"This is for loop printing. \")"
   ]
  },
  {
   "cell_type": "code",
   "execution_count": 26,
   "metadata": {},
   "outputs": [
    {
     "name": "stdout",
     "output_type": "stream",
     "text": [
      "Enter you favourite Food: biryani\n",
      "Enter you favourite Food: karhayi\n",
      "Enter you favourite Food: tikka\n",
      "Enter you favourite Food: qourma\n",
      "Enter you favourite Food: sadas\n",
      "Enter you favourite Food: sdsa\n",
      "Enter you favourite Food: rtet\n",
      "Enter you favourite Food: fdgdf\n",
      "Enter you favourite Food: fgdg\n",
      "Enter you favourite Food: cxbc\n",
      "Enter you favourite Food: fdgfd\n"
     ]
    }
   ],
   "source": [
    "a = 0\n",
    "while a <= 10:\n",
    "    user = (input(\"Enter you favourite Food: \"))\n",
    "    a +=1"
   ]
  },
  {
   "cell_type": "code",
   "execution_count": 2,
   "metadata": {},
   "outputs": [
    {
     "name": "stdout",
     "output_type": "stream",
     "text": [
      "0\n",
      "1\n",
      "2\n",
      "3\n",
      "4\n",
      "5\n",
      "6\n",
      "7\n",
      "8\n",
      "9\n",
      "10\n"
     ]
    }
   ],
   "source": [
    "i = 0\n",
    "while i <= 10:\n",
    "    print(i)\n",
    "    i +=1"
   ]
  },
  {
   "cell_type": "code",
   "execution_count": 3,
   "metadata": {},
   "outputs": [
    {
     "name": "stdout",
     "output_type": "stream",
     "text": [
      "1\n",
      "2\n",
      "3\n"
     ]
    }
   ],
   "source": [
    "i = 1\n",
    "while i < 6:\n",
    "  print(i)\n",
    "  if i == 3:\n",
    "    break\n",
    "  i += 1"
   ]
  },
  {
   "cell_type": "code",
   "execution_count": 4,
   "metadata": {},
   "outputs": [
    {
     "name": "stdout",
     "output_type": "stream",
     "text": [
      "1\n",
      "2\n",
      "4\n",
      "5\n",
      "6\n"
     ]
    }
   ],
   "source": [
    "i = 0\n",
    "while i < 6:\n",
    "  i += 1 \n",
    "  if i == 3:\n",
    "    continue\n",
    "  print(i)"
   ]
  },
  {
   "cell_type": "markdown",
   "metadata": {},
   "source": [
    "# Setting a Flag"
   ]
  },
  {
   "cell_type": "code",
   "execution_count": 27,
   "metadata": {},
   "outputs": [
    {
     "name": "stdout",
     "output_type": "stream",
     "text": [
      "Enter you favourite Food: Biryani\n",
      "Enter you favourite Food: Qourma\n",
      "Enter you favourite Food: Karhayi\n",
      "Enter you favourite Food: Tikka\n",
      "Enter you favourite Food: burger\n",
      "Enter you favourite Food: Quit\n",
      "['Biryani', 'Qourma', 'Karhayi', 'Tikka', 'burger']\n"
     ]
    }
   ],
   "source": [
    "flag = True\n",
    "fav_foods = []\n",
    "while flag:\n",
    "    user = (input(\"Enter you favourite Food: \"))\n",
    "    if user == \"Quit\":\n",
    "        flag = False\n",
    "    else:\n",
    "        fav_foods.append(user)\n",
    "print(fav_foods)"
   ]
  },
  {
   "cell_type": "markdown",
   "metadata": {},
   "source": [
    "# Classe:"
   ]
  },
  {
   "cell_type": "code",
   "execution_count": null,
   "metadata": {},
   "outputs": [],
   "source": [
    "#define a class"
   ]
  },
  {
   "cell_type": "code",
   "execution_count": 48,
   "metadata": {},
   "outputs": [],
   "source": [
    "class Car():\n",
    "    #attributes >>>> are variables in programming\n",
    "    def __init__(self,make,model,year):\n",
    "        self.make = make\n",
    "        self.model = model\n",
    "        self.year = year\n",
    "    #behaviours >>>> are functions in programming\n",
    "    def discriptioncar(self):\n",
    "        print(f\"The make of Car is: {self.make}\")\n",
    "        print(f\"The model of Car is: {self.model}\")\n",
    "        print(f\"The year of Car is: {self.year}\")\n",
    "    def move(self):\n",
    "        print(f\"{self.make} {self.model} is running with speed\")\n",
    "    def appl_break(self):\n",
    "        print(f\"{self.model} has applied the Break\")"
   ]
  },
  {
   "cell_type": "code",
   "execution_count": 49,
   "metadata": {},
   "outputs": [],
   "source": [
    "#How to create object of Class:"
   ]
  },
  {
   "cell_type": "code",
   "execution_count": 50,
   "metadata": {},
   "outputs": [],
   "source": [
    "#We can create many objects as we can"
   ]
  },
  {
   "cell_type": "code",
   "execution_count": 51,
   "metadata": {},
   "outputs": [],
   "source": [
    "car_1 = Car(\"Honda\",\"Civic\",2019)"
   ]
  },
  {
   "cell_type": "code",
   "execution_count": 52,
   "metadata": {},
   "outputs": [],
   "source": [
    "car_2 = Car(\"Toyota\",\"Corolla\",2018)"
   ]
  },
  {
   "cell_type": "code",
   "execution_count": 53,
   "metadata": {},
   "outputs": [
    {
     "data": {
      "text/plain": [
       "'Toyota'"
      ]
     },
     "execution_count": 53,
     "metadata": {},
     "output_type": "execute_result"
    }
   ],
   "source": [
    "car_2.make"
   ]
  },
  {
   "cell_type": "code",
   "execution_count": 54,
   "metadata": {},
   "outputs": [
    {
     "name": "stdout",
     "output_type": "stream",
     "text": [
      "The make of Car is: Toyota\n",
      "The model of Car is: Corolla\n",
      "The year of Car is: 2018\n"
     ]
    }
   ],
   "source": [
    "car_2.discriptioncar()"
   ]
  },
  {
   "cell_type": "code",
   "execution_count": 55,
   "metadata": {},
   "outputs": [
    {
     "name": "stdout",
     "output_type": "stream",
     "text": [
      "Honda Civic is running with speed\n"
     ]
    }
   ],
   "source": [
    "car_1.move()"
   ]
  },
  {
   "cell_type": "code",
   "execution_count": 69,
   "metadata": {},
   "outputs": [],
   "source": [
    "class Mobile():\n",
    "    def __init__(self,name,model,ram,rom):\n",
    "        self.name = name\n",
    "        self.model = model\n",
    "        self.ram = ram\n",
    "        self.rom = rom\n",
    "    def dis_mob(self):\n",
    "        print(f\"The Name of Mobile is: {self.name}\")\n",
    "        print(f\"The Model of Mobile is: {self.model}\")\n",
    "        print(f\"The RAM of Mobile is: {self.ram}\")\n",
    "        print(f\"The ROM of Mobile is: {self.rom}\")\n",
    "    def screen(self):\n",
    "        print(f\"The Display screen of {self.name} is '7 inches' \")        "
   ]
  },
  {
   "cell_type": "code",
   "execution_count": 70,
   "metadata": {},
   "outputs": [],
   "source": [
    "mob1 = Mobile(\"Huawei\",\"Y9 prime\",\"4 GB\", \"64 GB\")\n",
    "mob2 = Mobile(\"iphone\",\"XS MAX\",\"4 GB\",\"128 GB\")"
   ]
  },
  {
   "cell_type": "code",
   "execution_count": 71,
   "metadata": {},
   "outputs": [
    {
     "name": "stdout",
     "output_type": "stream",
     "text": [
      "The Name of Mobile is: iphone\n",
      "The Model of Mobile is: XS MAX\n",
      "The RAM of Mobile is: 4 GB\n",
      "The ROM of Mobile is: 128 GB\n"
     ]
    }
   ],
   "source": [
    "mob2.dis_mob()"
   ]
  },
  {
   "cell_type": "code",
   "execution_count": 72,
   "metadata": {},
   "outputs": [
    {
     "name": "stdout",
     "output_type": "stream",
     "text": [
      "The Display screen of Huawei is '7 inches' \n"
     ]
    }
   ],
   "source": [
    "mob1.screen()"
   ]
  },
  {
   "cell_type": "code",
   "execution_count": 78,
   "metadata": {},
   "outputs": [],
   "source": [
    "class Student():\n",
    "    def __init__(self,name,standard,sec):\n",
    "        self.name = name\n",
    "        self.standard =standard\n",
    "        self.sec = sec\n",
    "    def dis_std(self):\n",
    "        print(f\"The Name of Student is: {self.name}\")\n",
    "        print(f\"The Standard of {self.name} is: {self.standard}\")\n",
    "        print(f\"The Section of {self.name} is: {self.sec}\")\n",
    "    def fee(self):\n",
    "        print(f\"{self.name}'s Fee is submitted\")\n",
    "    def asst(self):\n",
    "        print(f\"{self.name}'s All Assignment has been submitted\")"
   ]
  },
  {
   "cell_type": "code",
   "execution_count": 88,
   "metadata": {},
   "outputs": [],
   "source": [
    "std1 = Student(\"Mohib\",\"2nd year\",\"A\")\n",
    "std2 = Student(\"Ali\",\"1st year\",\"B\")"
   ]
  },
  {
   "cell_type": "code",
   "execution_count": 89,
   "metadata": {},
   "outputs": [
    {
     "name": "stdout",
     "output_type": "stream",
     "text": [
      "The Name of Student is: Mohib\n",
      "The Standard of Mohib is: 2nd year\n",
      "The Section of Mohib is: A\n"
     ]
    }
   ],
   "source": [
    "std1.dis_std()"
   ]
  },
  {
   "cell_type": "code",
   "execution_count": 90,
   "metadata": {},
   "outputs": [
    {
     "name": "stdout",
     "output_type": "stream",
     "text": [
      "Ali's All Assignment has been submitted\n"
     ]
    }
   ],
   "source": [
    "std2.asst()"
   ]
  },
  {
   "cell_type": "markdown",
   "metadata": {},
   "source": [
    "# Changing an Attribute:"
   ]
  },
  {
   "cell_type": "code",
   "execution_count": null,
   "metadata": {},
   "outputs": [],
   "source": [
    "# 1) direct hit the Attribute\n",
    "# 2) Via function (get set)"
   ]
  },
  {
   "cell_type": "code",
   "execution_count": 91,
   "metadata": {},
   "outputs": [
    {
     "data": {
      "text/plain": [
       "'A'"
      ]
     },
     "execution_count": 91,
     "metadata": {},
     "output_type": "execute_result"
    }
   ],
   "source": [
    "std1.sec"
   ]
  },
  {
   "cell_type": "code",
   "execution_count": 92,
   "metadata": {},
   "outputs": [],
   "source": [
    "std1.sec = \"E\""
   ]
  },
  {
   "cell_type": "code",
   "execution_count": 93,
   "metadata": {},
   "outputs": [
    {
     "data": {
      "text/plain": [
       "'E'"
      ]
     },
     "execution_count": 93,
     "metadata": {},
     "output_type": "execute_result"
    }
   ],
   "source": [
    "std1.sec"
   ]
  },
  {
   "cell_type": "code",
   "execution_count": 87,
   "metadata": {},
   "outputs": [
    {
     "name": "stdout",
     "output_type": "stream",
     "text": [
      "The Name of Student is: Mohib\n",
      "The Standard of Mohib is: 2nd year\n",
      "The Section of Mohib is: E\n"
     ]
    }
   ],
   "source": [
    "std1.dis_std()"
   ]
  },
  {
   "cell_type": "code",
   "execution_count": 95,
   "metadata": {},
   "outputs": [],
   "source": [
    "std2.name = \"Ameer\""
   ]
  },
  {
   "cell_type": "code",
   "execution_count": 96,
   "metadata": {},
   "outputs": [
    {
     "name": "stdout",
     "output_type": "stream",
     "text": [
      "The Name of Student is: Ameer\n",
      "The Standard of Ameer is: 1st year\n",
      "The Section of Ameer is: B\n"
     ]
    }
   ],
   "source": [
    "std2.dis_std()"
   ]
  },
  {
   "cell_type": "code",
   "execution_count": 97,
   "metadata": {},
   "outputs": [],
   "source": [
    "###############"
   ]
  },
  {
   "cell_type": "code",
   "execution_count": 113,
   "metadata": {},
   "outputs": [],
   "source": [
    "class Mobile():\n",
    "    def __init__(self,name,model,ram,rom):\n",
    "        self.name = name\n",
    "        self.model = model\n",
    "        self.ram = ram\n",
    "        self.rom = rom\n",
    "        self.battery = \"4000 mAh\"\n",
    "    def dis_mob(self):\n",
    "        print(f\"The Name of Mobile is: {self.name}\")\n",
    "        print(f\"The Model of Mobile is: {self.model}\")\n",
    "        print(f\"The RAM of Mobile is: {self.ram}\")\n",
    "        print(f\"The ROM of Mobile is: {self.rom}\")\n",
    "    def screen(self):\n",
    "        print(f\"The Display screen of {self.name} is '7 inches' \")\n",
    "    def battery(self):\n",
    "        \n",
    "        print(f\"The Battery of {self.name} is: {self.battery}\")\n",
    "    def Set_Battery_Size(self,newSize):\n",
    "        self.battery = newSize\n",
    "    def Get_Battery_Size(self):\n",
    "        print(f\"The Size of your Mobile Battery is: {self.battery}\")"
   ]
  },
  {
   "cell_type": "code",
   "execution_count": 114,
   "metadata": {},
   "outputs": [],
   "source": [
    "mob1 = Mobile(\"Oppo\",\"F11 pro\",\"4 GB\", \"64 GB\")\n",
    "mob2 = Mobile(\"iphone\",\"XS MAX\",\"4 GB\",\"128 GB\")"
   ]
  },
  {
   "cell_type": "code",
   "execution_count": 115,
   "metadata": {},
   "outputs": [
    {
     "name": "stdout",
     "output_type": "stream",
     "text": [
      "The Name of Mobile is: Oppo\n",
      "The Model of Mobile is: F11 pro\n",
      "The RAM of Mobile is: 4 GB\n",
      "The ROM of Mobile is: 64 GB\n"
     ]
    }
   ],
   "source": [
    "mob1.dis_mob()"
   ]
  },
  {
   "cell_type": "code",
   "execution_count": 116,
   "metadata": {},
   "outputs": [
    {
     "name": "stdout",
     "output_type": "stream",
     "text": [
      "The Name of Mobile is: iphone\n",
      "The Model of Mobile is: XS MAX\n",
      "The RAM of Mobile is: 4 GB\n",
      "The ROM of Mobile is: 128 GB\n"
     ]
    }
   ],
   "source": [
    "mob2.dis_mob()"
   ]
  },
  {
   "cell_type": "code",
   "execution_count": null,
   "metadata": {},
   "outputs": [],
   "source": [
    "# Changing values by Direct Hitting"
   ]
  },
  {
   "cell_type": "code",
   "execution_count": 117,
   "metadata": {},
   "outputs": [
    {
     "data": {
      "text/plain": [
       "'4000 mAh'"
      ]
     },
     "execution_count": 117,
     "metadata": {},
     "output_type": "execute_result"
    }
   ],
   "source": [
    "mob1.battery"
   ]
  },
  {
   "cell_type": "code",
   "execution_count": 118,
   "metadata": {},
   "outputs": [
    {
     "data": {
      "text/plain": [
       "'4000 mAh'"
      ]
     },
     "execution_count": 118,
     "metadata": {},
     "output_type": "execute_result"
    }
   ],
   "source": [
    "mob2.battery"
   ]
  },
  {
   "cell_type": "code",
   "execution_count": 119,
   "metadata": {},
   "outputs": [],
   "source": [
    "mob2.battery = \"5000 mAh\""
   ]
  },
  {
   "cell_type": "code",
   "execution_count": 120,
   "metadata": {},
   "outputs": [
    {
     "data": {
      "text/plain": [
       "'5000 mAh'"
      ]
     },
     "execution_count": 120,
     "metadata": {},
     "output_type": "execute_result"
    }
   ],
   "source": [
    "mob2.battery"
   ]
  },
  {
   "cell_type": "code",
   "execution_count": null,
   "metadata": {},
   "outputs": [],
   "source": [
    "# Changing Attributes value Via function (Get set)"
   ]
  },
  {
   "cell_type": "code",
   "execution_count": 121,
   "metadata": {},
   "outputs": [
    {
     "name": "stdout",
     "output_type": "stream",
     "text": [
      "The Size of your Mobile Battery is: 5000 mAh\n"
     ]
    }
   ],
   "source": [
    "mob2.Get_Battery_Size()"
   ]
  },
  {
   "cell_type": "code",
   "execution_count": 122,
   "metadata": {},
   "outputs": [
    {
     "name": "stdout",
     "output_type": "stream",
     "text": [
      "The Size of your Mobile Battery is: 4000 mAh\n"
     ]
    }
   ],
   "source": [
    "mob1.Get_Battery_Size()"
   ]
  },
  {
   "cell_type": "code",
   "execution_count": 123,
   "metadata": {},
   "outputs": [],
   "source": [
    "mob2.Set_Battery_Size(\"4500mAh\")"
   ]
  },
  {
   "cell_type": "code",
   "execution_count": 124,
   "metadata": {},
   "outputs": [
    {
     "name": "stdout",
     "output_type": "stream",
     "text": [
      "The Size of your Mobile Battery is: 4500mAh\n"
     ]
    }
   ],
   "source": [
    "mob2.Get_Battery_Size()"
   ]
  },
  {
   "cell_type": "markdown",
   "metadata": {},
   "source": [
    "# Data Files:"
   ]
  },
  {
   "cell_type": "code",
   "execution_count": 1,
   "metadata": {},
   "outputs": [],
   "source": [
    "# How to open file\n",
    "# with open(\"file_name.txt\",\"mode\") as file:\n",
    "###########################################\n",
    "# There are Three Modes\n",
    "# 1) read mode(r)\n",
    " # - (r+ Mode) In this mode we can do both read and write\n",
    "# 2) write mode(w)\n",
    " # - (r+ Mode) In this mode we can do both write and read\n",
    "# 3) append mode(a)\n",
    "#########################################################\n",
    "# There is a difference in r+ and w+ Mode and that is if we open \"w+\" mode the file automatically will create\n",
    "# and if we open \"r+\" mode then in case if your file doesn't exist then this will show Exception."
   ]
  },
  {
   "cell_type": "code",
   "execution_count": 2,
   "metadata": {},
   "outputs": [
    {
     "name": "stdout",
     "output_type": "stream",
     "text": [
      "This is My first file and I'll open it in python.\n"
     ]
    }
   ],
   "source": [
    "with open(\"testingFile.txt\",\"r\") as file:\n",
    "    f_name = file.read()\n",
    "print(f_name)"
   ]
  },
  {
   "cell_type": "code",
   "execution_count": 3,
   "metadata": {},
   "outputs": [],
   "source": [
    "with open(\"testingFile.txt\",\"w\") as file:\n",
    "    file.write(\"I'm writng......\")"
   ]
  },
  {
   "cell_type": "code",
   "execution_count": 4,
   "metadata": {},
   "outputs": [
    {
     "name": "stdout",
     "output_type": "stream",
     "text": [
      "I'm writng......\n"
     ]
    }
   ],
   "source": [
    "with open(\"testingFile.txt\",\"r\") as file:\n",
    "    f_name = file.read()\n",
    "print(f_name)"
   ]
  },
  {
   "cell_type": "code",
   "execution_count": 5,
   "metadata": {},
   "outputs": [],
   "source": [
    "# Now the thing happen here is When I used \"Write\" mode. The existing file overwrite with \"I'm writng....\"\n",
    "# whatever I wrote on the time of creation of that file overwrited when I used \"Write\" mode"
   ]
  },
  {
   "cell_type": "code",
   "execution_count": 6,
   "metadata": {},
   "outputs": [],
   "source": [
    "with open(\"testingFile.txt\",\"w\") as file:\n",
    "    file.write(\"I'm Again writng......\")"
   ]
  },
  {
   "cell_type": "code",
   "execution_count": 7,
   "metadata": {},
   "outputs": [
    {
     "name": "stdout",
     "output_type": "stream",
     "text": [
      "I'm Again writng......\n"
     ]
    }
   ],
   "source": [
    "with open(\"testingFile.txt\",\"r\") as file:\n",
    "    f_name = file.read()\n",
    "print(f_name)"
   ]
  },
  {
   "cell_type": "code",
   "execution_count": 8,
   "metadata": {},
   "outputs": [
    {
     "ename": "FileNotFoundError",
     "evalue": "[Errno 2] No such file or directory: 'nonExistingFile.txt'",
     "output_type": "error",
     "traceback": [
      "\u001b[1;31m---------------------------------------------------------------------------\u001b[0m",
      "\u001b[1;31mFileNotFoundError\u001b[0m                         Traceback (most recent call last)",
      "\u001b[1;32m<ipython-input-8-c0b4d76b1adc>\u001b[0m in \u001b[0;36m<module>\u001b[1;34m\u001b[0m\n\u001b[1;32m----> 1\u001b[1;33m \u001b[1;32mwith\u001b[0m \u001b[0mopen\u001b[0m\u001b[1;33m(\u001b[0m\u001b[1;34m\"nonExistingFile.txt\"\u001b[0m\u001b[1;33m,\u001b[0m\u001b[1;34m\"r\"\u001b[0m\u001b[1;33m)\u001b[0m\u001b[1;33m:\u001b[0m\u001b[1;33m\u001b[0m\u001b[1;33m\u001b[0m\u001b[0m\n\u001b[0m\u001b[0;32m      2\u001b[0m     \u001b[0mfile\u001b[0m\u001b[1;33m.\u001b[0m\u001b[0mread\u001b[0m\u001b[1;33m(\u001b[0m\u001b[1;33m)\u001b[0m\u001b[1;33m\u001b[0m\u001b[1;33m\u001b[0m\u001b[0m\n",
      "\u001b[1;31mFileNotFoundError\u001b[0m: [Errno 2] No such file or directory: 'nonExistingFile.txt'"
     ]
    }
   ],
   "source": [
    "with open(\"nonExistingFile.txt\",\"r\"):\n",
    "    file.read()\n",
    "# This Error is because there is no such file or directory"
   ]
  },
  {
   "cell_type": "code",
   "execution_count": 10,
   "metadata": {},
   "outputs": [],
   "source": [
    "with open(\"nonExistingFile.txt\",\"w\") as file:\n",
    "    file.write(\"My New file\")\n",
    "#if file doesn't exist, \"w\" mode will automatically create a file"
   ]
  },
  {
   "cell_type": "code",
   "execution_count": 11,
   "metadata": {},
   "outputs": [],
   "source": [
    "with open(\"nonExistingFile.txt\",\"a\") as file:\n",
    "    file.write(\" Append Mode\")"
   ]
  },
  {
   "cell_type": "markdown",
   "metadata": {},
   "source": [
    "# r+ and w+ Mode:"
   ]
  },
  {
   "cell_type": "code",
   "execution_count": 12,
   "metadata": {},
   "outputs": [],
   "source": [
    "# Modified version"
   ]
  },
  {
   "cell_type": "code",
   "execution_count": 15,
   "metadata": {},
   "outputs": [
    {
     "name": "stdout",
     "output_type": "stream",
     "text": [
      "New File\n"
     ]
    }
   ],
   "source": [
    "with open(\"MyNewFile.txt\",\"w+\") as file:\n",
    "    file.write(\"New File\")\n",
    "    file.seek(0)\n",
    "    print(file.read())"
   ]
  },
  {
   "cell_type": "code",
   "execution_count": 18,
   "metadata": {},
   "outputs": [
    {
     "name": "stdout",
     "output_type": "stream",
     "text": [
      " New File!  New File!  New File!  New File! \n"
     ]
    }
   ],
   "source": [
    "with open(\"MyNewFile.txt\",\"r+\") as file:\n",
    "    file.write(\" New File! \")\n",
    "    file.write(\" New File! \")\n",
    "    file.write(\" New File! \")\n",
    "    file.write(\" New File! \")\n",
    "    file.seek(0)\n",
    "    print(file.read())"
   ]
  },
  {
   "cell_type": "code",
   "execution_count": null,
   "metadata": {},
   "outputs": [],
   "source": []
  }
 ],
 "metadata": {
  "kernelspec": {
   "display_name": "Python 3",
   "language": "python",
   "name": "python3"
  },
  "language_info": {
   "codemirror_mode": {
    "name": "ipython",
    "version": 3
   },
   "file_extension": ".py",
   "mimetype": "text/x-python",
   "name": "python",
   "nbconvert_exporter": "python",
   "pygments_lexer": "ipython3",
   "version": "3.7.3"
  }
 },
 "nbformat": 4,
 "nbformat_minor": 2
}
